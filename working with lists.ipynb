{
 "cells": [
  {
   "cell_type": "code",
   "execution_count": 2,
   "metadata": {},
   "outputs": [
    {
     "name": "stdout",
     "output_type": "stream",
     "text": [
      "length 5\n",
      "the zeroth item is: 0.773\n"
     ]
    }
   ],
   "source": [
    "pressures = [0.773,0.275,0.277,0.275,0.276]\n",
    "print('length', len(pressures))\n",
    "print('the zeroth item is:', pressures [0])"
   ]
  },
  {
   "cell_type": "code",
   "execution_count": 4,
   "metadata": {},
   "outputs": [
    {
     "name": "stdout",
     "output_type": "stream",
     "text": [
      "zeroth item is now: 0.15\n"
     ]
    }
   ],
   "source": [
    "pressures[0] = 0.15\n",
    "print('zeroth item is now:', pressures [0])"
   ]
  },
  {
   "cell_type": "code",
   "execution_count": 22,
   "metadata": {},
   "outputs": [
    {
     "name": "stdout",
     "output_type": "stream",
     "text": [
      "[0.15, 0.275, 0.277, 0.275, 0.276, 0.333, 0.333, 0.333, 0.333, 0.333, 0.333, 0.333, 0.333, 0.333, 0.333, 0.333, 0.333, 0.333, 0.333, 0.333, 0.333, 0.333]\n"
     ]
    }
   ],
   "source": [
    "pressures.append(0.333)\n",
    "print(pressures)"
   ]
  },
  {
   "cell_type": "code",
   "execution_count": 39,
   "metadata": {},
   "outputs": [
    {
     "name": "stdout",
     "output_type": "stream",
     "text": [
      "[0.15, 0.275, 0.277, 0.275, 0.276]\n"
     ]
    }
   ],
   "source": [
    "del pressures[-1]\n",
    "print(pressures)"
   ]
  },
  {
   "cell_type": "markdown",
   "metadata": {},
   "source": [
    "lets explore for-loops"
   ]
  },
  {
   "cell_type": "code",
   "execution_count": 43,
   "metadata": {},
   "outputs": [
    {
     "name": "stdout",
     "output_type": "stream",
     "text": [
      "0 0\n",
      "2 4\n",
      "5 10\n",
      "10 20\n"
     ]
    }
   ],
   "source": [
    "for number in [0,2,5,10]:\n",
    "    squared = number*2\n",
    "    print(number, squared)"
   ]
  },
  {
   "cell_type": "code",
   "execution_count": 48,
   "metadata": {},
   "outputs": [
    {
     "name": "stdout",
     "output_type": "stream",
     "text": [
      "0\n"
     ]
    }
   ],
   "source": [
    "# sum of the first ten intagers\n",
    "firstnumber = 0\n",
    "\n",
    "for number in range(10):\n",
    "    firstnumber = firstnumber * (number +1)\n",
    "print (firstnumber)"
   ]
  },
  {
   "cell_type": "code",
   "execution_count": 50,
   "metadata": {},
   "outputs": [
    {
     "name": "stdout",
     "output_type": "stream",
     "text": [
      "0 cats\n",
      "1 cats\n",
      "2 cats\n",
      "3 cats\n",
      "4 cats\n",
      "5 cats\n",
      "6 cats\n",
      "7 cats\n",
      "8 cats\n",
      "9 cats\n"
     ]
    }
   ],
   "source": [
    "count=0\n",
    "\n",
    "for number in range (10):\n",
    "    count=count + 1\n",
    "    print (number, 'cats')"
   ]
  }
 ],
 "metadata": {
  "kernelspec": {
   "display_name": "Python 3",
   "language": "python",
   "name": "python3"
  },
  "language_info": {
   "codemirror_mode": {
    "name": "ipython",
    "version": 3
   },
   "file_extension": ".py",
   "mimetype": "text/x-python",
   "name": "python",
   "nbconvert_exporter": "python",
   "pygments_lexer": "ipython3",
   "version": "3.6.5"
  }
 },
 "nbformat": 4,
 "nbformat_minor": 2
}
